{
 "cells": [
  {
   "cell_type": "code",
   "execution_count": 5,
   "metadata": {},
   "outputs": [
    {
     "name": "stdout",
     "output_type": "stream",
     "text": [
      "sdahkjhdsjaksjhdbikajbc\n"
     ]
    }
   ],
   "source": [
    "texto_ale=\"sdahkjhdsjaksjhdbikajbc\"\n",
    "print(texto_ale)"
   ]
  },
  {
   "cell_type": "code",
   "execution_count": 6,
   "metadata": {},
   "outputs": [
    {
     "name": "stdout",
     "output_type": "stream",
     "text": [
      "Marquinhos Moura\n"
     ]
    }
   ],
   "source": [
    "pseudonimo = \"Marquinhos Moura\"\n",
    "print(pseudonimo)"
   ]
  },
  {
   "cell_type": "code",
   "execution_count": 8,
   "metadata": {},
   "outputs": [
    {
     "name": "stdout",
     "output_type": "stream",
     "text": [
      "MARQUINHOS MOURA\n"
     ]
    }
   ],
   "source": [
    "pseudonimo_maiusc = pseudonimo.upper()\n",
    "print(pseudonimo_maiusc)"
   ]
  },
  {
   "cell_type": "code",
   "execution_count": 13,
   "metadata": {},
   "outputs": [
    {
     "name": "stdout",
     "output_type": "stream",
     "text": [
      "Marquinhos_Moura\n",
      "['Marquinhos_Moura']\n"
     ]
    }
   ],
   "source": [
    "pseudonimo = pseudonimo.replace(' ', '_')\n",
    "pseudonimo_lista = pseudonimo.split()\n",
    "print(pseudonimo)\n",
    "print(pseudonimo_lista)"
   ]
  },
  {
   "cell_type": "code",
   "execution_count": null,
   "metadata": {},
   "outputs": [],
   "source": [
    "pseudonimo_lista = pseudonimo.split('o')\n",
    "print(pseudonimo)\n",
    "print(pseudonimo_lista)"
   ]
  },
  {
   "cell_type": "code",
   "execution_count": null,
   "metadata": {},
   "outputs": [],
   "source": [
    "pseudonimo = 'Marquinhos Moura'\n",
    "print(pseudonimo)\n",
    "# substitui primeiro caracter ' ' pelo segundo '_' na str\n",
    "pseudonimo = pseudonimo.replace(' ', '_')  \n",
    "print(pseudonimo)\n",
    "# quebra string e transforma em lista\n",
    "pseudonimo = pseudonimo.split()\n",
    "print(pseudonimo)\n",
    "# passa string inteira para maiscula\n",
    "pseudonimo = pseudonimo.upper()\n",
    "print(pseudonimo)\n",
    "# passa string inteira para minuscula\n",
    "pseudonimo = pseudonimo.lower()\n",
    "print(pseudonimo)\n"
   ]
  },
  {
   "cell_type": "code",
   "execution_count": 15,
   "metadata": {},
   "outputs": [
    {
     "name": "stdout",
     "output_type": "stream",
     "text": [
      "karl marx karl☭marx\n"
     ]
    }
   ],
   "source": [
    "comunismo = ('karl marx')\n",
    "comunismo_symbol = comunismo.replace(' ', '☭')\n",
    "print(comunismo, comunismo_symbol)"
   ]
  },
  {
   "cell_type": "code",
   "execution_count": 26,
   "metadata": {},
   "outputs": [
    {
     "name": "stdout",
     "output_type": "stream",
     "text": [
      "karl☭marx\n",
      "k\n",
      "karl\n",
      "karl\n",
      "karl☭marx\n",
      "karl☭marx\n",
      "x\n",
      "r\n",
      "☭mar\n"
     ]
    }
   ],
   "source": [
    "comunismo = ('karl marx')\n",
    "comunismo_symbol = comunismo.replace(' ', '☭')\n",
    "print(comunismo, comunismo_symbol)\n",
    "\n",
    "print(comunismo_symbol)\n",
    "print(comunismo_symbol[0])\n",
    "print(comunismo_symbol[0:4])\n",
    "print(comunismo_symbol[:4])\n",
    "print(comunismo_symbol[:])\n",
    "print(comunismo_symbol[0:])\n",
    "print(comunismo_symbol[-1])\n",
    "print(comunismo_symbol[-2])\n",
    "print(comunismo_symbol[4:-1])\n",
    "\n",
    "comunismo = ('karl marx')\n",
    "comunismo_symbol = comunismo.replace(' ', '☭')\n",
    "\n",
    "def print_intervalo(inicio, fim):\n",
    "    print(comunismo_symbol[inicio:fim])\n",
    "    \n",
    "print(comunismo_symbol)\n",
    "print_intervalo(3, -1)"
   ]
  },
  {
   "cell_type": "code",
   "execution_count": 29,
   "metadata": {},
   "outputs": [],
   "source": [
    "comunismo = ('karl marx')\n",
    "comunismo_symbol = comunismo.replace(' ', '☭')\n",
    "\n",
    "def print_intervalo(inicio, fim):\n",
    "    print(comunismo_symbol[inicio:fim])"
   ]
  },
  {
   "cell_type": "code",
   "execution_count": 32,
   "metadata": {},
   "outputs": [
    {
     "name": "stdout",
     "output_type": "stream",
     "text": [
      "karl☭marx\n",
      "l☭mar\n"
     ]
    }
   ],
   "source": [
    "print(comunismo_symbol)\n",
    "print_intervalo(3, -1)"
   ]
  }
 ],
 "metadata": {
  "kernelspec": {
   "display_name": "Python 3",
   "language": "python",
   "name": "python3"
  },
  "language_info": {
   "codemirror_mode": {
    "name": "ipython",
    "version": 3
   },
   "file_extension": ".py",
   "mimetype": "text/x-python",
   "name": "python",
   "nbconvert_exporter": "python",
   "pygments_lexer": "ipython3",
   "version": "3.11.8"
  }
 },
 "nbformat": 4,
 "nbformat_minor": 2
}
